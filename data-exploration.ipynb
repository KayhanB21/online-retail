{
 "cells": [
  {
   "cell_type": "code",
   "execution_count": 1,
   "outputs": [],
   "source": [
    "import numpy as np\n",
    "import pandas as pd\n",
    "from IPython.display import display, HTML"
   ],
   "metadata": {
    "collapsed": false,
    "pycharm": {
     "name": "#%%\n"
    }
   }
  },
  {
   "cell_type": "code",
   "execution_count": 2,
   "outputs": [
    {
     "name": "stdout",
     "output_type": "stream",
     "text": [
      "Notebook is started.\n",
      "Reading the config file is finished.\n"
     ]
    }
   ],
   "source": [
    "# read configuration from config files\n",
    "from config import settings"
   ],
   "metadata": {
    "collapsed": false,
    "pycharm": {
     "name": "#%%\n"
    }
   }
  },
  {
   "cell_type": "markdown",
   "source": [
    "This is a transnational data set which contains all the transactions occurring between 01/12/2010 and 09/12/2011 for a UK-based and\n",
    "registered non-store online retail. The company mainly sells unique all-occasion gifts. Many customers of the company are wholesalers. <br>\n",
    "\n",
    "InvoiceNo: Invoice number. Nominal, a 6-digit integral number uniquely assigned to each transaction. If this code starts with letter 'c',\n",
    "it indicates a cancellation. <br>\n",
    "StockCode: Product (item) code. Nominal, a 5-digit integral number uniquely assigned to each distinct product. <br>\n",
    "Description: Product (item) name. Nominal. <br>\n",
    "Quantity: The quantities of each product (item) per transaction. Numeric. <br>\n",
    "InvoiceDate: Invoice Date and time. Numeric, the day and time when each transaction was generated. <br>\n",
    "UnitPrice: Unit price. Numeric, Product price per unit in sterling. <br>\n",
    "CustomerID: Customer number. Nominal, a 5-digit integral number uniquely assigned to each customer. <br>\n",
    "Country: Country name. Nominal, the name of the country where each customer resides. <br>\n",
    "\n",
    "source: https://archive.ics.uci.edu/ml/datasets/online+retail"
   ],
   "metadata": {
    "collapsed": false
   }
  },
  {
   "cell_type": "code",
   "execution_count": 3,
   "outputs": [
    {
     "name": "stdout",
     "output_type": "stream",
     "text": [
      "Dataframe length is: 541909\n",
      "Number of columns is: 8\n",
      "Columns inferred types are:\n",
      "InvoiceNo       object\n",
      "StockCode       object\n",
      "Description     object\n",
      "Quantity         int64\n",
      "InvoiceDate     object\n",
      "UnitPrice      float64\n",
      "CustomerID     float64\n",
      "Country         object\n",
      "dtype: object\n",
      "Wall time: 1.01 s\n"
     ]
    },
    {
     "data": {
      "text/plain": "  InvoiceNo StockCode                          Description  Quantity  \\\n0    536365    85123A   WHITE HANGING HEART T-LIGHT HOLDER         6   \n1    536365     71053                  WHITE METAL LANTERN         6   \n2    536365    84406B       CREAM CUPID HEARTS COAT HANGER         8   \n3    536365    84029G  KNITTED UNION FLAG HOT WATER BOTTLE         6   \n4    536365    84029E       RED WOOLLY HOTTIE WHITE HEART.         6   \n5    536365     22752         SET 7 BABUSHKA NESTING BOXES         2   \n6    536365     21730    GLASS STAR FROSTED T-LIGHT HOLDER         6   \n7    536366     22633               HAND WARMER UNION JACK         6   \n8    536366     22632            HAND WARMER RED POLKA DOT         6   \n9    536367     84879        ASSORTED COLOUR BIRD ORNAMENT        32   \n\n      InvoiceDate  UnitPrice  CustomerID         Country  \n0  12/1/2010 8:26       2.55     17850.0  United Kingdom  \n1  12/1/2010 8:26       3.39     17850.0  United Kingdom  \n2  12/1/2010 8:26       2.75     17850.0  United Kingdom  \n3  12/1/2010 8:26       3.39     17850.0  United Kingdom  \n4  12/1/2010 8:26       3.39     17850.0  United Kingdom  \n5  12/1/2010 8:26       7.65     17850.0  United Kingdom  \n6  12/1/2010 8:26       4.25     17850.0  United Kingdom  \n7  12/1/2010 8:28       1.85     17850.0  United Kingdom  \n8  12/1/2010 8:28       1.85     17850.0  United Kingdom  \n9  12/1/2010 8:34       1.69     13047.0  United Kingdom  ",
      "text/html": "<div>\n<style scoped>\n    .dataframe tbody tr th:only-of-type {\n        vertical-align: middle;\n    }\n\n    .dataframe tbody tr th {\n        vertical-align: top;\n    }\n\n    .dataframe thead th {\n        text-align: right;\n    }\n</style>\n<table border=\"1\" class=\"dataframe\">\n  <thead>\n    <tr style=\"text-align: right;\">\n      <th></th>\n      <th>InvoiceNo</th>\n      <th>StockCode</th>\n      <th>Description</th>\n      <th>Quantity</th>\n      <th>InvoiceDate</th>\n      <th>UnitPrice</th>\n      <th>CustomerID</th>\n      <th>Country</th>\n    </tr>\n  </thead>\n  <tbody>\n    <tr>\n      <th>0</th>\n      <td>536365</td>\n      <td>85123A</td>\n      <td>WHITE HANGING HEART T-LIGHT HOLDER</td>\n      <td>6</td>\n      <td>12/1/2010 8:26</td>\n      <td>2.55</td>\n      <td>17850.0</td>\n      <td>United Kingdom</td>\n    </tr>\n    <tr>\n      <th>1</th>\n      <td>536365</td>\n      <td>71053</td>\n      <td>WHITE METAL LANTERN</td>\n      <td>6</td>\n      <td>12/1/2010 8:26</td>\n      <td>3.39</td>\n      <td>17850.0</td>\n      <td>United Kingdom</td>\n    </tr>\n    <tr>\n      <th>2</th>\n      <td>536365</td>\n      <td>84406B</td>\n      <td>CREAM CUPID HEARTS COAT HANGER</td>\n      <td>8</td>\n      <td>12/1/2010 8:26</td>\n      <td>2.75</td>\n      <td>17850.0</td>\n      <td>United Kingdom</td>\n    </tr>\n    <tr>\n      <th>3</th>\n      <td>536365</td>\n      <td>84029G</td>\n      <td>KNITTED UNION FLAG HOT WATER BOTTLE</td>\n      <td>6</td>\n      <td>12/1/2010 8:26</td>\n      <td>3.39</td>\n      <td>17850.0</td>\n      <td>United Kingdom</td>\n    </tr>\n    <tr>\n      <th>4</th>\n      <td>536365</td>\n      <td>84029E</td>\n      <td>RED WOOLLY HOTTIE WHITE HEART.</td>\n      <td>6</td>\n      <td>12/1/2010 8:26</td>\n      <td>3.39</td>\n      <td>17850.0</td>\n      <td>United Kingdom</td>\n    </tr>\n    <tr>\n      <th>5</th>\n      <td>536365</td>\n      <td>22752</td>\n      <td>SET 7 BABUSHKA NESTING BOXES</td>\n      <td>2</td>\n      <td>12/1/2010 8:26</td>\n      <td>7.65</td>\n      <td>17850.0</td>\n      <td>United Kingdom</td>\n    </tr>\n    <tr>\n      <th>6</th>\n      <td>536365</td>\n      <td>21730</td>\n      <td>GLASS STAR FROSTED T-LIGHT HOLDER</td>\n      <td>6</td>\n      <td>12/1/2010 8:26</td>\n      <td>4.25</td>\n      <td>17850.0</td>\n      <td>United Kingdom</td>\n    </tr>\n    <tr>\n      <th>7</th>\n      <td>536366</td>\n      <td>22633</td>\n      <td>HAND WARMER UNION JACK</td>\n      <td>6</td>\n      <td>12/1/2010 8:28</td>\n      <td>1.85</td>\n      <td>17850.0</td>\n      <td>United Kingdom</td>\n    </tr>\n    <tr>\n      <th>8</th>\n      <td>536366</td>\n      <td>22632</td>\n      <td>HAND WARMER RED POLKA DOT</td>\n      <td>6</td>\n      <td>12/1/2010 8:28</td>\n      <td>1.85</td>\n      <td>17850.0</td>\n      <td>United Kingdom</td>\n    </tr>\n    <tr>\n      <th>9</th>\n      <td>536367</td>\n      <td>84879</td>\n      <td>ASSORTED COLOUR BIRD ORNAMENT</td>\n      <td>32</td>\n      <td>12/1/2010 8:34</td>\n      <td>1.69</td>\n      <td>13047.0</td>\n      <td>United Kingdom</td>\n    </tr>\n  </tbody>\n</table>\n</div>"
     },
     "execution_count": 3,
     "metadata": {},
     "output_type": "execute_result"
    }
   ],
   "source": [
    "%%time\n",
    "# @formatter:on\n",
    "\n",
    "df = pd.read_csv(settings.notebook.feature_evaluation.data_source_path, encoding = 'unicode_escape')\n",
    "# there was a problem with bare pd.read_csv: 'utf-8' codec can't decode byte 0xa3 in position 79780: invalid start byte\n",
    "print(f\"Dataframe length is: {len(df.index)}\")\n",
    "print(f\"Number of columns is: {len(df.columns)}\")\n",
    "print(f\"Columns inferred types are:\")\n",
    "print(df.dtypes)\n",
    "df.head(10)"
   ],
   "metadata": {
    "collapsed": false,
    "pycharm": {
     "name": "#%% @formatter:off\n"
    }
   }
  },
  {
   "cell_type": "code",
   "execution_count": 4,
   "outputs": [
    {
     "name": "stdout",
     "output_type": "stream",
     "text": [
      "Wall time: 0 ns\n"
     ]
    },
    {
     "data": {
      "text/plain": "       InvoiceNo StockCode                      Description  Quantity  \\\n541899    581587     22726       ALARM CLOCK BAKELIKE GREEN         4   \n541900    581587     22730       ALARM CLOCK BAKELIKE IVORY         4   \n541901    581587     22367  CHILDRENS APRON SPACEBOY DESIGN         8   \n541902    581587     22629              SPACEBOY LUNCH BOX         12   \n541903    581587     23256      CHILDRENS CUTLERY SPACEBOY          4   \n541904    581587     22613      PACK OF 20 SPACEBOY NAPKINS        12   \n541905    581587     22899     CHILDREN'S APRON DOLLY GIRL          6   \n541906    581587     23254    CHILDRENS CUTLERY DOLLY GIRL          4   \n541907    581587     23255  CHILDRENS CUTLERY CIRCUS PARADE         4   \n541908    581587     22138    BAKING SET 9 PIECE RETROSPOT          3   \n\n            InvoiceDate  UnitPrice  CustomerID Country  \n541899  12/9/2011 12:50       3.75     12680.0  France  \n541900  12/9/2011 12:50       3.75     12680.0  France  \n541901  12/9/2011 12:50       1.95     12680.0  France  \n541902  12/9/2011 12:50       1.95     12680.0  France  \n541903  12/9/2011 12:50       4.15     12680.0  France  \n541904  12/9/2011 12:50       0.85     12680.0  France  \n541905  12/9/2011 12:50       2.10     12680.0  France  \n541906  12/9/2011 12:50       4.15     12680.0  France  \n541907  12/9/2011 12:50       4.15     12680.0  France  \n541908  12/9/2011 12:50       4.95     12680.0  France  ",
      "text/html": "<div>\n<style scoped>\n    .dataframe tbody tr th:only-of-type {\n        vertical-align: middle;\n    }\n\n    .dataframe tbody tr th {\n        vertical-align: top;\n    }\n\n    .dataframe thead th {\n        text-align: right;\n    }\n</style>\n<table border=\"1\" class=\"dataframe\">\n  <thead>\n    <tr style=\"text-align: right;\">\n      <th></th>\n      <th>InvoiceNo</th>\n      <th>StockCode</th>\n      <th>Description</th>\n      <th>Quantity</th>\n      <th>InvoiceDate</th>\n      <th>UnitPrice</th>\n      <th>CustomerID</th>\n      <th>Country</th>\n    </tr>\n  </thead>\n  <tbody>\n    <tr>\n      <th>541899</th>\n      <td>581587</td>\n      <td>22726</td>\n      <td>ALARM CLOCK BAKELIKE GREEN</td>\n      <td>4</td>\n      <td>12/9/2011 12:50</td>\n      <td>3.75</td>\n      <td>12680.0</td>\n      <td>France</td>\n    </tr>\n    <tr>\n      <th>541900</th>\n      <td>581587</td>\n      <td>22730</td>\n      <td>ALARM CLOCK BAKELIKE IVORY</td>\n      <td>4</td>\n      <td>12/9/2011 12:50</td>\n      <td>3.75</td>\n      <td>12680.0</td>\n      <td>France</td>\n    </tr>\n    <tr>\n      <th>541901</th>\n      <td>581587</td>\n      <td>22367</td>\n      <td>CHILDRENS APRON SPACEBOY DESIGN</td>\n      <td>8</td>\n      <td>12/9/2011 12:50</td>\n      <td>1.95</td>\n      <td>12680.0</td>\n      <td>France</td>\n    </tr>\n    <tr>\n      <th>541902</th>\n      <td>581587</td>\n      <td>22629</td>\n      <td>SPACEBOY LUNCH BOX</td>\n      <td>12</td>\n      <td>12/9/2011 12:50</td>\n      <td>1.95</td>\n      <td>12680.0</td>\n      <td>France</td>\n    </tr>\n    <tr>\n      <th>541903</th>\n      <td>581587</td>\n      <td>23256</td>\n      <td>CHILDRENS CUTLERY SPACEBOY</td>\n      <td>4</td>\n      <td>12/9/2011 12:50</td>\n      <td>4.15</td>\n      <td>12680.0</td>\n      <td>France</td>\n    </tr>\n    <tr>\n      <th>541904</th>\n      <td>581587</td>\n      <td>22613</td>\n      <td>PACK OF 20 SPACEBOY NAPKINS</td>\n      <td>12</td>\n      <td>12/9/2011 12:50</td>\n      <td>0.85</td>\n      <td>12680.0</td>\n      <td>France</td>\n    </tr>\n    <tr>\n      <th>541905</th>\n      <td>581587</td>\n      <td>22899</td>\n      <td>CHILDREN'S APRON DOLLY GIRL</td>\n      <td>6</td>\n      <td>12/9/2011 12:50</td>\n      <td>2.10</td>\n      <td>12680.0</td>\n      <td>France</td>\n    </tr>\n    <tr>\n      <th>541906</th>\n      <td>581587</td>\n      <td>23254</td>\n      <td>CHILDRENS CUTLERY DOLLY GIRL</td>\n      <td>4</td>\n      <td>12/9/2011 12:50</td>\n      <td>4.15</td>\n      <td>12680.0</td>\n      <td>France</td>\n    </tr>\n    <tr>\n      <th>541907</th>\n      <td>581587</td>\n      <td>23255</td>\n      <td>CHILDRENS CUTLERY CIRCUS PARADE</td>\n      <td>4</td>\n      <td>12/9/2011 12:50</td>\n      <td>4.15</td>\n      <td>12680.0</td>\n      <td>France</td>\n    </tr>\n    <tr>\n      <th>541908</th>\n      <td>581587</td>\n      <td>22138</td>\n      <td>BAKING SET 9 PIECE RETROSPOT</td>\n      <td>3</td>\n      <td>12/9/2011 12:50</td>\n      <td>4.95</td>\n      <td>12680.0</td>\n      <td>France</td>\n    </tr>\n  </tbody>\n</table>\n</div>"
     },
     "execution_count": 4,
     "metadata": {},
     "output_type": "execute_result"
    }
   ],
   "source": [
    "%%time\n",
    "# @formatter:on\n",
    "\n",
    "# last five rows\n",
    "df.tail(10)"
   ],
   "metadata": {
    "collapsed": false,
    "pycharm": {
     "name": "#%% @formatter:off\n"
    }
   }
  },
  {
   "cell_type": "code",
   "execution_count": 5,
   "outputs": [
    {
     "name": "stdout",
     "output_type": "stream",
     "text": [
      "Wall time: 214 ms\n"
     ]
    },
    {
     "data": {
      "text/plain": "Index               128\nInvoiceNo      34149558\nStockCode      33645420\nDescription    45252995\nQuantity        4335272\nInvoiceDate    39006782\nUnitPrice       4335272\nCustomerID      4335272\nCountry        38137498\ndtype: int64"
     },
     "execution_count": 5,
     "metadata": {},
     "output_type": "execute_result"
    }
   ],
   "source": [
    "%%time\n",
    "# @formatter:on\n",
    "\n",
    "# memory usage of each column in bytes\n",
    "df.memory_usage(deep = True)"
   ],
   "metadata": {
    "collapsed": false,
    "pycharm": {
     "name": "#%% @formatter:off\n"
    }
   }
  },
  {
   "cell_type": "code",
   "execution_count": 6,
   "outputs": [
    {
     "name": "stdout",
     "output_type": "stream",
     "text": [
      "<class 'pandas.core.frame.DataFrame'>\n",
      "RangeIndex: 541909 entries, 0 to 541908\n",
      "Data columns (total 8 columns):\n",
      " #   Column       Non-Null Count   Dtype  \n",
      "---  ------       --------------   -----  \n",
      " 0   InvoiceNo    541909 non-null  object \n",
      " 1   StockCode    541909 non-null  object \n",
      " 2   Description  540455 non-null  object \n",
      " 3   Quantity     541909 non-null  int64  \n",
      " 4   InvoiceDate  541909 non-null  object \n",
      " 5   UnitPrice    541909 non-null  float64\n",
      " 6   CustomerID   406829 non-null  float64\n",
      " 7   Country      541909 non-null  object \n",
      "dtypes: float64(2), int64(1), object(5)\n",
      "memory usage: 33.1+ MB\n",
      "Wall time: 107 ms\n"
     ]
    }
   ],
   "source": [
    "%%time\n",
    "# @formatter:on\n",
    "\n",
    "# dataframe info and memory usage\n",
    "df.info(verbose = True)"
   ],
   "metadata": {
    "collapsed": false,
    "pycharm": {
     "name": "#%% @formatter:off\n"
    }
   }
  },
  {
   "cell_type": "markdown",
   "source": [
    "there's null values let's find out the percentage."
   ],
   "metadata": {
    "collapsed": false
   }
  },
  {
   "cell_type": "code",
   "execution_count": 7,
   "outputs": [
    {
     "data": {
      "text/plain": "                 InvoiceNo StockCode Description Quantity InvoiceDate  \\\ncolumn type         object    object      object    int64      object   \nnull values (nb)         0         0        1454        0           0   \nnull values (%)        0.0       0.0    0.268311      0.0         0.0   \n\n                 UnitPrice CustomerID Country  \ncolumn type        float64    float64  object  \nnull values (nb)         0     135080       0  \nnull values (%)        0.0  24.926694     0.0  ",
      "text/html": "<div>\n<style scoped>\n    .dataframe tbody tr th:only-of-type {\n        vertical-align: middle;\n    }\n\n    .dataframe tbody tr th {\n        vertical-align: top;\n    }\n\n    .dataframe thead th {\n        text-align: right;\n    }\n</style>\n<table border=\"1\" class=\"dataframe\">\n  <thead>\n    <tr style=\"text-align: right;\">\n      <th></th>\n      <th>InvoiceNo</th>\n      <th>StockCode</th>\n      <th>Description</th>\n      <th>Quantity</th>\n      <th>InvoiceDate</th>\n      <th>UnitPrice</th>\n      <th>CustomerID</th>\n      <th>Country</th>\n    </tr>\n  </thead>\n  <tbody>\n    <tr>\n      <th>column type</th>\n      <td>object</td>\n      <td>object</td>\n      <td>object</td>\n      <td>int64</td>\n      <td>object</td>\n      <td>float64</td>\n      <td>float64</td>\n      <td>object</td>\n    </tr>\n    <tr>\n      <th>null values (nb)</th>\n      <td>0</td>\n      <td>0</td>\n      <td>1454</td>\n      <td>0</td>\n      <td>0</td>\n      <td>0</td>\n      <td>135080</td>\n      <td>0</td>\n    </tr>\n    <tr>\n      <th>null values (%)</th>\n      <td>0.0</td>\n      <td>0.0</td>\n      <td>0.268311</td>\n      <td>0.0</td>\n      <td>0.0</td>\n      <td>0.0</td>\n      <td>24.926694</td>\n      <td>0.0</td>\n    </tr>\n  </tbody>\n</table>\n</div>"
     },
     "metadata": {},
     "output_type": "display_data"
    },
    {
     "name": "stdout",
     "output_type": "stream",
     "text": [
      "Wall time: 219 ms\n"
     ]
    }
   ],
   "source": [
    "%%time\n",
    "# @formatter:on\n",
    "\n",
    "def null_val_summary(df):\n",
    "    tab_info = pd.DataFrame(df.dtypes).T.rename(index = {0: 'column type'})\n",
    "    tab_info = tab_info.append(pd.DataFrame(df.isnull().sum()).T.rename(index = {0: 'null values (nb)'}))\n",
    "    tab_info = tab_info.append(pd.DataFrame(df.isnull().sum() / df.shape[0] * 100).T.rename(index = {0: 'null values (%)'}))\n",
    "    display(tab_info)\n",
    "\n",
    "\n",
    "null_val_summary(df = df)"
   ],
   "metadata": {
    "collapsed": false,
    "pycharm": {
     "name": "#%% @formatter:off\n"
    }
   }
  },
  {
   "cell_type": "markdown",
   "source": [
    "25% null for customer ids which can caused by guest customer. less than 0.5%\n",
    "null values for descriptions. changing null customers to id= -1"
   ],
   "metadata": {
    "collapsed": false
   }
  },
  {
   "cell_type": "code",
   "execution_count": 8,
   "outputs": [
    {
     "data": {
      "text/plain": "                 InvoiceNo StockCode Description Quantity InvoiceDate  \\\ncolumn type         object    object      object    int64      object   \nnull values (nb)         0         0        1454        0           0   \nnull values (%)        0.0       0.0    0.268311      0.0         0.0   \n\n                 UnitPrice CustomerID Country  \ncolumn type        float64    float64  object  \nnull values (nb)         0          0       0  \nnull values (%)        0.0        0.0     0.0  ",
      "text/html": "<div>\n<style scoped>\n    .dataframe tbody tr th:only-of-type {\n        vertical-align: middle;\n    }\n\n    .dataframe tbody tr th {\n        vertical-align: top;\n    }\n\n    .dataframe thead th {\n        text-align: right;\n    }\n</style>\n<table border=\"1\" class=\"dataframe\">\n  <thead>\n    <tr style=\"text-align: right;\">\n      <th></th>\n      <th>InvoiceNo</th>\n      <th>StockCode</th>\n      <th>Description</th>\n      <th>Quantity</th>\n      <th>InvoiceDate</th>\n      <th>UnitPrice</th>\n      <th>CustomerID</th>\n      <th>Country</th>\n    </tr>\n  </thead>\n  <tbody>\n    <tr>\n      <th>column type</th>\n      <td>object</td>\n      <td>object</td>\n      <td>object</td>\n      <td>int64</td>\n      <td>object</td>\n      <td>float64</td>\n      <td>float64</td>\n      <td>object</td>\n    </tr>\n    <tr>\n      <th>null values (nb)</th>\n      <td>0</td>\n      <td>0</td>\n      <td>1454</td>\n      <td>0</td>\n      <td>0</td>\n      <td>0</td>\n      <td>0</td>\n      <td>0</td>\n    </tr>\n    <tr>\n      <th>null values (%)</th>\n      <td>0.0</td>\n      <td>0.0</td>\n      <td>0.268311</td>\n      <td>0.0</td>\n      <td>0.0</td>\n      <td>0.0</td>\n      <td>0.0</td>\n      <td>0.0</td>\n    </tr>\n  </tbody>\n</table>\n</div>"
     },
     "metadata": {},
     "output_type": "display_data"
    },
    {
     "name": "stdout",
     "output_type": "stream",
     "text": [
      "Wall time: 223 ms\n"
     ]
    }
   ],
   "source": [
    "%%time\n",
    "# @formatter:on\n",
    "\n",
    "df['CustomerID'] = df['CustomerID'].fillna(-1)\n",
    "null_val_summary(df = df)"
   ],
   "metadata": {
    "collapsed": false,
    "pycharm": {
     "name": "#%% @formatter:off\n"
    }
   }
  },
  {
   "cell_type": "code",
   "execution_count": 9,
   "outputs": [
    {
     "data": {
      "text/plain": "                 InvoiceNo StockCode Description Quantity InvoiceDate  \\\ncolumn type         object    object      object    int64      object   \nnull values (nb)         0         0           0        0           0   \nnull values (%)        0.0       0.0         0.0      0.0         0.0   \n\n                 UnitPrice CustomerID Country  \ncolumn type        float64    float64  object  \nnull values (nb)         0          0       0  \nnull values (%)        0.0        0.0     0.0  ",
      "text/html": "<div>\n<style scoped>\n    .dataframe tbody tr th:only-of-type {\n        vertical-align: middle;\n    }\n\n    .dataframe tbody tr th {\n        vertical-align: top;\n    }\n\n    .dataframe thead th {\n        text-align: right;\n    }\n</style>\n<table border=\"1\" class=\"dataframe\">\n  <thead>\n    <tr style=\"text-align: right;\">\n      <th></th>\n      <th>InvoiceNo</th>\n      <th>StockCode</th>\n      <th>Description</th>\n      <th>Quantity</th>\n      <th>InvoiceDate</th>\n      <th>UnitPrice</th>\n      <th>CustomerID</th>\n      <th>Country</th>\n    </tr>\n  </thead>\n  <tbody>\n    <tr>\n      <th>column type</th>\n      <td>object</td>\n      <td>object</td>\n      <td>object</td>\n      <td>int64</td>\n      <td>object</td>\n      <td>float64</td>\n      <td>float64</td>\n      <td>object</td>\n    </tr>\n    <tr>\n      <th>null values (nb)</th>\n      <td>0</td>\n      <td>0</td>\n      <td>0</td>\n      <td>0</td>\n      <td>0</td>\n      <td>0</td>\n      <td>0</td>\n      <td>0</td>\n    </tr>\n    <tr>\n      <th>null values (%)</th>\n      <td>0.0</td>\n      <td>0.0</td>\n      <td>0.0</td>\n      <td>0.0</td>\n      <td>0.0</td>\n      <td>0.0</td>\n      <td>0.0</td>\n      <td>0.0</td>\n    </tr>\n  </tbody>\n</table>\n</div>"
     },
     "metadata": {},
     "output_type": "display_data"
    },
    {
     "name": "stdout",
     "output_type": "stream",
     "text": [
      "Wall time: 243 ms\n"
     ]
    }
   ],
   "source": [
    "%%time\n",
    "# @formatter:on\n",
    "\n",
    "df['Description'] = df['Description'].fillna(\"\")\n",
    "null_val_summary(df = df)"
   ],
   "metadata": {
    "collapsed": false,
    "pycharm": {
     "name": "#%% @formatter:off\n"
    }
   }
  },
  {
   "cell_type": "code",
   "execution_count": 10,
   "outputs": [
    {
     "name": "stdout",
     "output_type": "stream",
     "text": [
      "start date is (year/month/day 24-hour clock): 2010-12-01 08:26:00, \n",
      "end date is: 2011-12-09 12:50:00, \n",
      "duration is: 373 days 04:24:00\n",
      "InvoiceNo              object\n",
      "StockCode              object\n",
      "Description            object\n",
      "Quantity                int64\n",
      "InvoiceDate    datetime64[ns]\n",
      "UnitPrice             float64\n",
      "CustomerID            float64\n",
      "Country                object\n",
      "dtype: object\n",
      "Wall time: 133 ms\n"
     ]
    }
   ],
   "source": [
    "%%time\n",
    "# @formatter:on\n",
    "\n",
    "# https://docs.python.org/3/library/datetime.html#strftime-and-strptime-behavior\n",
    "df['InvoiceDate'] = pd.to_datetime(df['InvoiceDate'], format = '%m/%d/%Y %H:%M')\n",
    "print(f\"start date is (year/month/day 24-hour clock): {df['InvoiceDate'].min()}, \\n\"\n",
    "      f\"end date is: {df['InvoiceDate'].max()}, \\n\"\n",
    "      f\"duration is: {df['InvoiceDate'].max() - df['InvoiceDate'].min()}\")\n",
    "print(df.dtypes)"
   ],
   "metadata": {
    "collapsed": false,
    "pycharm": {
     "name": "#%% @formatter:off\n"
    }
   }
  },
  {
   "cell_type": "code",
   "execution_count": 11,
   "outputs": [
    {
     "name": "stdout",
     "output_type": "stream",
     "text": [
      "InvoiceNo       string\n",
      "StockCode       string\n",
      "Description     string\n",
      "Quantity         int64\n",
      "InvoiceDate     string\n",
      "UnitPrice      float64\n",
      "CustomerID       int64\n",
      "Country         string\n",
      "dtype: object\n",
      "Wall time: 686 ms\n"
     ]
    }
   ],
   "source": [
    "%%time\n",
    "# @formatter:on\n",
    "\n",
    "df = df.astype({'InvoiceNo': 'string',\n",
    "                'StockCode': 'string',\n",
    "                'Description': 'string',\n",
    "                'InvoiceDate': 'string',\n",
    "                'CustomerID': 'int64',\n",
    "                'Country': 'string'}, errors = 'raise')\n",
    "print(df.dtypes)"
   ],
   "metadata": {
    "collapsed": false,
    "pycharm": {
     "name": "#%% @formatter:off\n"
    }
   }
  },
  {
   "cell_type": "code",
   "execution_count": 12,
   "outputs": [
    {
     "name": "stdout",
     "output_type": "stream",
     "text": [
      "Wall time: 0 ns\n"
     ]
    }
   ],
   "source": [
    "%%time\n",
    "# @formatter:on\n",
    "\n"
   ],
   "metadata": {
    "collapsed": false,
    "pycharm": {
     "name": "#%% @formatter:off\n"
    }
   }
  },
  {
   "cell_type": "code",
   "execution_count": 13,
   "outputs": [
    {
     "name": "stdout",
     "output_type": "stream",
     "text": [
      "Wall time: 0 ns\n"
     ]
    }
   ],
   "source": [
    "%%time\n",
    "# @formatter:on"
   ],
   "metadata": {
    "collapsed": false,
    "pycharm": {
     "name": "#%% @formatter:off\n"
    }
   }
  },
  {
   "cell_type": "code",
   "execution_count": 14,
   "outputs": [
    {
     "name": "stdout",
     "output_type": "stream",
     "text": [
      "Wall time: 0 ns\n"
     ]
    }
   ],
   "source": [
    "%%time\n",
    "# @formatter:on\n",
    "\n"
   ],
   "metadata": {
    "collapsed": false,
    "pycharm": {
     "name": "#%% @formatter:off\n"
    }
   }
  }
 ],
 "metadata": {
  "kernelspec": {
   "display_name": "Python 3",
   "language": "python",
   "name": "python3"
  },
  "language_info": {
   "codemirror_mode": {
    "name": "ipython",
    "version": 2
   },
   "file_extension": ".py",
   "mimetype": "text/x-python",
   "name": "python",
   "nbconvert_exporter": "python",
   "pygments_lexer": "ipython2",
   "version": "2.7.6"
  },
  "pycharm": {
   "stem_cell": {
    "cell_type": "raw",
    "source": [
     "#coding=utf-8"
    ],
    "metadata": {
     "collapsed": false
    }
   }
  }
 },
 "nbformat": 4,
 "nbformat_minor": 0
}